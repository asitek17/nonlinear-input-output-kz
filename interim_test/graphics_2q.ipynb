{
 "cells": [
  {
   "cell_type": "code",
   "execution_count": 1,
   "metadata": {},
   "outputs": [],
   "source": [
    "import pandas as pd\n",
    "import numpy as np\n"
   ]
  },
  {
   "cell_type": "code",
   "execution_count": 2,
   "metadata": {},
   "outputs": [],
   "source": [
    "import os\n"
   ]
  },
  {
   "cell_type": "code",
   "execution_count": 3,
   "metadata": {},
   "outputs": [
    {
     "data": {
      "text/plain": [
       "'/home/ilya/1_Study/Diploma/Input-Output_tables'"
      ]
     },
     "execution_count": 3,
     "metadata": {},
     "output_type": "execute_result"
    }
   ],
   "source": [
    "os.getcwd()"
   ]
  },
  {
   "cell_type": "code",
   "execution_count": 4,
   "metadata": {},
   "outputs": [
    {
     "name": "stdout",
     "output_type": "stream",
     "text": [
      "Текущая директория изменена на: /home/ilya/1_Study/Diploma/Input-Output_tables/data\n"
     ]
    }
   ],
   "source": [
    "\n",
    "# Изменяем текущую директорию на 'data'\n",
    "os.chdir(\"data\")\n",
    "\n",
    "# Проверяем, что директория изменилась\n",
    "print(\"Текущая директория изменена на:\", os.getcwd())"
   ]
  },
  {
   "cell_type": "markdown",
   "metadata": {},
   "source": [
    "## Data preparation"
   ]
  },
  {
   "cell_type": "code",
   "execution_count": 7,
   "metadata": {},
   "outputs": [],
   "source": [
    "file_name = '2quadrant_aggr_normalized_by2q.xlsx'\n",
    "# Читаем конкретный лист по имени\n",
    "start_year = 2017\n",
    "end_year = 2023\n",
    "\n",
    "dict_2q = dict()\n",
    "for year in range(start_year, end_year+1):\n",
    "    df_year =  pd.read_excel(file_name, sheet_name=str(year), index_col=0)\n",
    "    dict_2q[year] = df_year"
   ]
  },
  {
   "cell_type": "code",
   "execution_count": 18,
   "metadata": {},
   "outputs": [
    {
     "data": {
      "text/plain": [
       "Index(['Промежуточное потребление', 'домашние хозяйства', 'Гос управление',\n",
       "       'Валовое накопление', 'Экспорт', 'ДХ и промежуточное потребление'],\n",
       "      dtype='object')"
      ]
     },
     "execution_count": 18,
     "metadata": {},
     "output_type": "execute_result"
    }
   ],
   "source": [
    "tmp = dict_2q[2020]\n",
    "tmp.index"
   ]
  },
  {
   "cell_type": "code",
   "execution_count": 9,
   "metadata": {},
   "outputs": [
    {
     "data": {
      "text/html": [
       "<div>\n",
       "<style scoped>\n",
       "    .dataframe tbody tr th:only-of-type {\n",
       "        vertical-align: middle;\n",
       "    }\n",
       "\n",
       "    .dataframe tbody tr th {\n",
       "        vertical-align: top;\n",
       "    }\n",
       "\n",
       "    .dataframe thead th {\n",
       "        text-align: right;\n",
       "    }\n",
       "</style>\n",
       "<table border=\"1\" class=\"dataframe\">\n",
       "  <thead>\n",
       "    <tr style=\"text-align: right;\">\n",
       "      <th></th>\n",
       "      <th>Использование продукции в отраслях экономики</th>\n",
       "      <th>Расходы на конечное потребление домашних хозяйств</th>\n",
       "      <th>Расходы на конечное потребление органов государственного управления, всего</th>\n",
       "      <th>Расходы на конечное потребление НКООДХ</th>\n",
       "      <th>Валовое накопление, всего</th>\n",
       "      <th>Экспорт товаров и услуг</th>\n",
       "    </tr>\n",
       "  </thead>\n",
       "  <tbody>\n",
       "    <tr>\n",
       "      <th>Промежуточное потребление</th>\n",
       "      <td>0.618828</td>\n",
       "      <td>0.113365</td>\n",
       "      <td>0.019780</td>\n",
       "      <td>0.000000</td>\n",
       "      <td>1.059491e-01</td>\n",
       "      <td>0.142077</td>\n",
       "    </tr>\n",
       "    <tr>\n",
       "      <th>домашние хозяйства</th>\n",
       "      <td>0.170565</td>\n",
       "      <td>0.694172</td>\n",
       "      <td>0.008727</td>\n",
       "      <td>0.024414</td>\n",
       "      <td>4.678773e-02</td>\n",
       "      <td>0.055334</td>\n",
       "    </tr>\n",
       "    <tr>\n",
       "      <th>Гос управление</th>\n",
       "      <td>0.003584</td>\n",
       "      <td>0.286807</td>\n",
       "      <td>0.707999</td>\n",
       "      <td>0.000930</td>\n",
       "      <td>2.392609e-05</td>\n",
       "      <td>0.000656</td>\n",
       "    </tr>\n",
       "    <tr>\n",
       "      <th>Валовое накопление</th>\n",
       "      <td>0.178214</td>\n",
       "      <td>0.115899</td>\n",
       "      <td>0.002384</td>\n",
       "      <td>0.000000</td>\n",
       "      <td>6.696174e-01</td>\n",
       "      <td>0.033886</td>\n",
       "    </tr>\n",
       "    <tr>\n",
       "      <th>Экспорт</th>\n",
       "      <td>0.129835</td>\n",
       "      <td>0.000000</td>\n",
       "      <td>0.000000</td>\n",
       "      <td>0.000000</td>\n",
       "      <td>8.320979e-02</td>\n",
       "      <td>0.786955</td>\n",
       "    </tr>\n",
       "    <tr>\n",
       "      <th>ДХ и промежуточное потребление</th>\n",
       "      <td>0.503734</td>\n",
       "      <td>0.441757</td>\n",
       "      <td>0.001024</td>\n",
       "      <td>0.000000</td>\n",
       "      <td>6.763171e-07</td>\n",
       "      <td>0.053484</td>\n",
       "    </tr>\n",
       "  </tbody>\n",
       "</table>\n",
       "</div>"
      ],
      "text/plain": [
       "                                Использование продукции в отраслях экономики   \\\n",
       "Промежуточное потребление                                            0.618828   \n",
       "домашние хозяйства                                                   0.170565   \n",
       "Гос управление                                                       0.003584   \n",
       "Валовое накопление                                                   0.178214   \n",
       "Экспорт                                                              0.129835   \n",
       "ДХ и промежуточное потребление                                       0.503734   \n",
       "\n",
       "                                Расходы на конечное потребление домашних хозяйств  \\\n",
       "Промежуточное потребление                                                0.113365   \n",
       "домашние хозяйства                                                       0.694172   \n",
       "Гос управление                                                           0.286807   \n",
       "Валовое накопление                                                       0.115899   \n",
       "Экспорт                                                                  0.000000   \n",
       "ДХ и промежуточное потребление                                           0.441757   \n",
       "\n",
       "                                Расходы на конечное потребление органов государственного управления, всего  \\\n",
       "Промежуточное потребление                                                0.019780                            \n",
       "домашние хозяйства                                                       0.008727                            \n",
       "Гос управление                                                           0.707999                            \n",
       "Валовое накопление                                                       0.002384                            \n",
       "Экспорт                                                                  0.000000                            \n",
       "ДХ и промежуточное потребление                                           0.001024                            \n",
       "\n",
       "                                Расходы на конечное потребление НКООДХ  \\\n",
       "Промежуточное потребление                                     0.000000   \n",
       "домашние хозяйства                                            0.024414   \n",
       "Гос управление                                                0.000930   \n",
       "Валовое накопление                                            0.000000   \n",
       "Экспорт                                                       0.000000   \n",
       "ДХ и промежуточное потребление                                0.000000   \n",
       "\n",
       "                                Валовое накопление, всего  \\\n",
       "Промежуточное потребление                    1.059491e-01   \n",
       "домашние хозяйства                           4.678773e-02   \n",
       "Гос управление                               2.392609e-05   \n",
       "Валовое накопление                           6.696174e-01   \n",
       "Экспорт                                      8.320979e-02   \n",
       "ДХ и промежуточное потребление               6.763171e-07   \n",
       "\n",
       "                                Экспорт товаров и услуг  \n",
       "Промежуточное потребление                      0.142077  \n",
       "домашние хозяйства                             0.055334  \n",
       "Гос управление                                 0.000656  \n",
       "Валовое накопление                             0.033886  \n",
       "Экспорт                                        0.786955  \n",
       "ДХ и промежуточное потребление                 0.053484  "
      ]
     },
     "execution_count": 9,
     "metadata": {},
     "output_type": "execute_result"
    }
   ],
   "source": [
    "dict_2q[2020]"
   ]
  },
  {
   "cell_type": "code",
   "execution_count": 10,
   "metadata": {},
   "outputs": [],
   "source": [
    "\n",
    "# Определяем категории для графиков\n",
    "categories = {\n",
    "    'household': 'Конечное потребление д/х, доли в комплексах',\n",
    "    'government': 'Конечное потребление государства, доли в комплексах',\n",
    "    'capital': 'Валовое накопление основного капитала, доли в комплексах',\n",
    "    'export': 'Экспорт, доли в комплексах'\n",
    "}\n",
    "\n",
    "# Определяем цвета для секторов\n",
    "sector_colors = {\n",
    "    'Обрабатывающий': '#1F77B4',\n",
    "    'Экспортирующий': '#FF7F0E',\n",
    "    'Инфраструктурный': '#2CA02C',\n",
    "    'Услуги': '#D62728',\n",
    "    'Финансы': '#9467BD',\n",
    "    'Импорт': '#8C564B'\n",
    "}"
   ]
  },
  {
   "cell_type": "code",
   "execution_count": 11,
   "metadata": {},
   "outputs": [],
   "source": [
    "\n",
    "import matplotlib.pyplot as plt\n",
    "from matplotlib.ticker import PercentFormatter"
   ]
  },
  {
   "cell_type": "code",
   "execution_count": null,
   "metadata": {},
   "outputs": [],
   "source": []
  },
  {
   "cell_type": "code",
   "execution_count": 20,
   "metadata": {},
   "outputs": [
    {
     "name": "stdout",
     "output_type": "stream",
     "text": [
      "Ошибка при создании графика для Конечное потребление д/х, доли в комплексах: Location based indexing can only have [integer, integer slice (START point is INCLUDED, END point is EXCLUDED), listlike of integers, boolean array] types\n",
      "Ошибка при создании графика для Конечное потребление государства, доли в комплексах: Location based indexing can only have [integer, integer slice (START point is INCLUDED, END point is EXCLUDED), listlike of integers, boolean array] types\n",
      "Ошибка при создании графика для Валовое накопление основного капитала, доли в комплексах: Location based indexing can only have [integer, integer slice (START point is INCLUDED, END point is EXCLUDED), listlike of integers, boolean array] types\n",
      "Ошибка при создании графика для Экспорт, доли в комплексах: Location based indexing can only have [integer, integer slice (START point is INCLUDED, END point is EXCLUDED), listlike of integers, boolean array] types\n",
      "\n",
      "Создание демонстрационных графиков...\n",
      "\n",
      "Все графики созданы успешно!\n"
     ]
    },
    {
     "data": {
      "text/plain": [
       "<Figure size 1200x600 with 0 Axes>"
      ]
     },
     "metadata": {},
     "output_type": "display_data"
    },
    {
     "data": {
      "text/plain": [
       "<Figure size 1200x600 with 0 Axes>"
      ]
     },
     "metadata": {},
     "output_type": "display_data"
    },
    {
     "data": {
      "text/plain": [
       "<Figure size 1200x600 with 0 Axes>"
      ]
     },
     "metadata": {},
     "output_type": "display_data"
    },
    {
     "data": {
      "text/plain": [
       "<Figure size 1200x600 with 0 Axes>"
      ]
     },
     "metadata": {},
     "output_type": "display_data"
    }
   ],
   "source": [
    "# Предположим структуру данных, где строки - это сектора экономики, а столбцы - это категории расходов\n",
    "# Функция для создания графика\n",
    "def create_stacked_bar_chart(data_frames, category_num, title):\n",
    "    \"\"\"\n",
    "    Создает график с накопленными столбцами для определенной категории расходов\n",
    "    \n",
    "    Parameters:\n",
    "    data_frames (dict): Словарь с данными фреймов по годам\n",
    "    category_name (str): Название категории расходов (столбец в данных)\n",
    "    title (str): Заголовок для графика\n",
    "    \"\"\"\n",
    "    plt.figure(figsize=(12, 6))\n",
    "    \n",
    "    # Предполагаем, что у нас есть несколько листов/лет данных\n",
    "    # Получаем годы из ключей словаря\n",
    "    years = list(data_frames.keys())\n",
    "    years.sort()  # Сортируем годы\n",
    "    \n",
    "    sectors = data_frames[years[0]].index\n",
    "    # Создаем массив данных для каждого года и сектора\n",
    "    all_data = []\n",
    "    \n",
    "    for year in years:\n",
    "        tmp = data_frames[year]\n",
    "        all_data += tmp.iloc[:, category_num]\n",
    "\n",
    "    # Транспонируем данные для корректного построения\n",
    "    all_data = np.array(all_data).T\n",
    "\n",
    "    # Рисуем накопленную столбчатую диаграмму\n",
    "    bottom = np.zeros(len(years))\n",
    "    \n",
    "    for i, sector in enumerate(sectors):\n",
    "        color = sector_colors.get(sector, f'C{i}')  # Используем предопределенный цвет или цвет из палитры\n",
    "        plt.bar(years, all_data[i], bottom=bottom, label=sector, color=color)\n",
    "        bottom += all_data[i]\n",
    "    \n",
    "    # Настраиваем график\n",
    "    plt.title(title)\n",
    "    plt.xlabel('Год')\n",
    "    plt.ylabel('Доля в комплексах')\n",
    "    plt.ylim(0, 1.0)\n",
    "    plt.gca().yaxis.set_major_formatter(PercentFormatter(1.0))\n",
    "    plt.legend(loc='upper center', bbox_to_anchor=(0.5, -0.15), ncol=3)\n",
    "    plt.grid(axis='y', linestyle='--', alpha=0.7)\n",
    "    plt.tight_layout()\n",
    "    \n",
    "    # Возвращаем фигуру для дальнейшего использования\n",
    "    return plt.gcf()\n",
    "\n",
    "# Создаем и сохраняем графики для каждой категории расходов\n",
    "for category_key, category_title in categories.items():\n",
    "    try:\n",
    "        fig = create_stacked_bar_chart(dict_2q, category_key, category_title)\n",
    "        # Сохраняем график\n",
    "        output_file = f\"{category_key}_chart.png\"\n",
    "        fig.savefig(output_file, dpi=300, bbox_inches='tight')\n",
    "        print(f\"График сохранен в файл: {output_file}\")\n",
    "        plt.close(fig)  # Закрываем фигуру, чтобы освободить память\n",
    "    except Exception as e:\n",
    "        print(f\"Ошибка при создании графика для {category_title}: {e}\")\n",
    "# Если стандартный код не создал графики, создаем демонстрационные\n",
    "print(\"\\nСоздание демонстрационных графиков...\")\n",
    "\n",
    "print(\"\\nВсе графики созданы успешно!\")"
   ]
  }
 ],
 "metadata": {
  "kernelspec": {
   "display_name": "Work",
   "language": "python",
   "name": "python3"
  },
  "language_info": {
   "codemirror_mode": {
    "name": "ipython",
    "version": 3
   },
   "file_extension": ".py",
   "mimetype": "text/x-python",
   "name": "python",
   "nbconvert_exporter": "python",
   "pygments_lexer": "ipython3",
   "version": "3.10.15"
  }
 },
 "nbformat": 4,
 "nbformat_minor": 2
}
